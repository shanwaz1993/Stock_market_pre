{
 "cells": [
  {
   "cell_type": "code",
   "execution_count": 1,
   "metadata": {},
   "outputs": [],
   "source": [
    "import numpy as np\n",
    "import pandas as pd\n",
    "#from nltk.classify import NaiveBayesClassifier\n",
    "#from nltk.corpus import subjectivity\n",
    "#from nltk.sentiment import SentimentAnalyzer\n",
    "#from nltk.sentiment.util import *\n"
   ]
  },
  {
   "cell_type": "code",
   "execution_count": 2,
   "metadata": {},
   "outputs": [
    {
     "name": "stdout",
     "output_type": "stream",
     "text": [
      "<class 'pandas.core.frame.DataFrame'>\n",
      "DatetimeIndex: 3653 entries, 2007-01-01 to 2016-12-31\n",
      "Freq: D\n",
      "Data columns (total 3 columns):\n",
      "close        3653 non-null float64\n",
      "adj close    3653 non-null float64\n",
      "articles     3653 non-null object\n",
      "dtypes: float64(2), object(1)\n",
      "memory usage: 114.2+ KB\n",
      "None\n"
     ]
    },
    {
     "data": {
      "text/html": [
       "<div>\n",
       "<style scoped>\n",
       "    .dataframe tbody tr th:only-of-type {\n",
       "        vertical-align: middle;\n",
       "    }\n",
       "\n",
       "    .dataframe tbody tr th {\n",
       "        vertical-align: top;\n",
       "    }\n",
       "\n",
       "    .dataframe thead th {\n",
       "        text-align: right;\n",
       "    }\n",
       "</style>\n",
       "<table border=\"1\" class=\"dataframe\">\n",
       "  <thead>\n",
       "    <tr style=\"text-align: right;\">\n",
       "      <th></th>\n",
       "      <th>close</th>\n",
       "      <th>adj close</th>\n",
       "      <th>articles</th>\n",
       "    </tr>\n",
       "  </thead>\n",
       "  <tbody>\n",
       "    <tr>\n",
       "      <th>2007-01-01</th>\n",
       "      <td>12469.971875</td>\n",
       "      <td>12469.971875</td>\n",
       "      <td>. What Sticks from '06. Somalia Orders Islamis...</td>\n",
       "    </tr>\n",
       "    <tr>\n",
       "      <th>2007-01-02</th>\n",
       "      <td>12472.245703</td>\n",
       "      <td>12472.245703</td>\n",
       "      <td>. Heart Health: Vitamin Does Not Prevent Death...</td>\n",
       "    </tr>\n",
       "    <tr>\n",
       "      <th>2007-01-03</th>\n",
       "      <td>12474.519531</td>\n",
       "      <td>12474.519531</td>\n",
       "      <td>. Google Answer to Filling Jobs Is an Algorith...</td>\n",
       "    </tr>\n",
       "    <tr>\n",
       "      <th>2007-01-04</th>\n",
       "      <td>12480.690430</td>\n",
       "      <td>12480.690430</td>\n",
       "      <td>. Helping Make the Shift From Combat to Commer...</td>\n",
       "    </tr>\n",
       "    <tr>\n",
       "      <th>2007-01-05</th>\n",
       "      <td>12398.009766</td>\n",
       "      <td>12398.009766</td>\n",
       "      <td>. Rise in Ethanol Raises Concerns About Corn a...</td>\n",
       "    </tr>\n",
       "  </tbody>\n",
       "</table>\n",
       "</div>"
      ],
      "text/plain": [
       "                   close     adj close  \\\n",
       "2007-01-01  12469.971875  12469.971875   \n",
       "2007-01-02  12472.245703  12472.245703   \n",
       "2007-01-03  12474.519531  12474.519531   \n",
       "2007-01-04  12480.690430  12480.690430   \n",
       "2007-01-05  12398.009766  12398.009766   \n",
       "\n",
       "                                                     articles  \n",
       "2007-01-01  . What Sticks from '06. Somalia Orders Islamis...  \n",
       "2007-01-02  . Heart Health: Vitamin Does Not Prevent Death...  \n",
       "2007-01-03  . Google Answer to Filling Jobs Is an Algorith...  \n",
       "2007-01-04  . Helping Make the Shift From Combat to Commer...  \n",
       "2007-01-05  . Rise in Ethanol Raises Concerns About Corn a...  "
      ]
     },
     "execution_count": 2,
     "metadata": {},
     "output_type": "execute_result"
    }
   ],
   "source": [
    "df_stocks = pd.read_pickle('/home/shan/Project_Mtech/stock_market_pre/Data/Pickled_data.pkl')\n",
    "print(df_stocks.info())\n",
    "df_stocks.head()\n"
   ]
  },
  {
   "cell_type": "code",
   "execution_count": 3,
   "metadata": {
    "scrolled": true
   },
   "outputs": [
    {
     "name": "stdout",
     "output_type": "stream",
     "text": [
      "<class 'pandas.core.frame.DataFrame'>\n",
      "DatetimeIndex: 3653 entries, 2007-01-01 to 2016-12-31\n",
      "Freq: D\n",
      "Data columns (total 4 columns):\n",
      "close        3653 non-null float64\n",
      "adj close    3653 non-null float64\n",
      "articles     3653 non-null object\n",
      "prices       3653 non-null int64\n",
      "dtypes: float64(2), int64(1), object(1)\n",
      "memory usage: 142.7+ KB\n",
      "None\n"
     ]
    }
   ],
   "source": [
    "df_stocks['prices'] = df_stocks['adj close'].apply(np.int64)\n",
    "print(df_stocks.info())\n"
   ]
  },
  {
   "cell_type": "code",
   "execution_count": 4,
   "metadata": {},
   "outputs": [],
   "source": [
    "# selecting the prices and articles\n",
    "df_stocks = df_stocks[['prices', 'articles']]\n",
    "df_stocks['articles'] = df_stocks['articles'].map(lambda x: x.lstrip('.-'))\n",
    "#print(df_stocks.head())\n"
   ]
  },
  {
   "cell_type": "code",
   "execution_count": 5,
   "metadata": {},
   "outputs": [
    {
     "data": {
      "text/html": [
       "<div>\n",
       "<style scoped>\n",
       "    .dataframe tbody tr th:only-of-type {\n",
       "        vertical-align: middle;\n",
       "    }\n",
       "\n",
       "    .dataframe tbody tr th {\n",
       "        vertical-align: top;\n",
       "    }\n",
       "\n",
       "    .dataframe thead th {\n",
       "        text-align: right;\n",
       "    }\n",
       "</style>\n",
       "<table border=\"1\" class=\"dataframe\">\n",
       "  <thead>\n",
       "    <tr style=\"text-align: right;\">\n",
       "      <th></th>\n",
       "      <th>prices</th>\n",
       "      <th>compound</th>\n",
       "      <th>neg</th>\n",
       "      <th>neu</th>\n",
       "      <th>pos</th>\n",
       "    </tr>\n",
       "  </thead>\n",
       "  <tbody>\n",
       "    <tr>\n",
       "      <th>2007-01-01</th>\n",
       "      <td>12469</td>\n",
       "      <td></td>\n",
       "      <td></td>\n",
       "      <td></td>\n",
       "      <td></td>\n",
       "    </tr>\n",
       "    <tr>\n",
       "      <th>2007-01-02</th>\n",
       "      <td>12472</td>\n",
       "      <td></td>\n",
       "      <td></td>\n",
       "      <td></td>\n",
       "      <td></td>\n",
       "    </tr>\n",
       "    <tr>\n",
       "      <th>2007-01-03</th>\n",
       "      <td>12474</td>\n",
       "      <td></td>\n",
       "      <td></td>\n",
       "      <td></td>\n",
       "      <td></td>\n",
       "    </tr>\n",
       "    <tr>\n",
       "      <th>2007-01-04</th>\n",
       "      <td>12480</td>\n",
       "      <td></td>\n",
       "      <td></td>\n",
       "      <td></td>\n",
       "      <td></td>\n",
       "    </tr>\n",
       "    <tr>\n",
       "      <th>2007-01-05</th>\n",
       "      <td>12398</td>\n",
       "      <td></td>\n",
       "      <td></td>\n",
       "      <td></td>\n",
       "      <td></td>\n",
       "    </tr>\n",
       "  </tbody>\n",
       "</table>\n",
       "</div>"
      ],
      "text/plain": [
       "            prices compound neg neu pos\n",
       "2007-01-01   12469                     \n",
       "2007-01-02   12472                     \n",
       "2007-01-03   12474                     \n",
       "2007-01-04   12480                     \n",
       "2007-01-05   12398                     "
      ]
     },
     "execution_count": 5,
     "metadata": {},
     "output_type": "execute_result"
    }
   ],
   "source": [
    "df = df_stocks[['prices']].copy()\n",
    "#print(df.head())\n",
    "df[\"compound\"] = ''\n",
    "df[\"neg\"] = ''\n",
    "df[\"neu\"] = ''\n",
    "df[\"pos\"] = ''\n",
    "\n",
    "df_stocks.articles.dtype\n",
    "T_df_stocks=df_stocks.T\n",
    "T_df_stocks\n",
    "df.head(5)"
   ]
  },
  {
   "cell_type": "code",
   "execution_count": 6,
   "metadata": {},
   "outputs": [
    {
     "name": "stderr",
     "output_type": "stream",
     "text": [
      "/home/shan/anaconda3/lib/python2.7/site-packages/ipykernel_launcher.py:15: FutureWarning: set_value is deprecated and will be removed in a future release. Please use .at[] or .iat[] accessors instead\n",
      "  from ipykernel import kernelapp as app\n",
      "/home/shan/anaconda3/lib/python2.7/site-packages/ipykernel_launcher.py:16: FutureWarning: set_value is deprecated and will be removed in a future release. Please use .at[] or .iat[] accessors instead\n",
      "  app.launch_new_instance()\n",
      "/home/shan/anaconda3/lib/python2.7/site-packages/ipykernel_launcher.py:17: FutureWarning: set_value is deprecated and will be removed in a future release. Please use .at[] or .iat[] accessors instead\n",
      "/home/shan/anaconda3/lib/python2.7/site-packages/ipykernel_launcher.py:18: FutureWarning: set_value is deprecated and will be removed in a future release. Please use .at[] or .iat[] accessors instead\n"
     ]
    }
   ],
   "source": [
    "#Now starts score prediction for given sentence.\n",
    "from nltk.sentiment.vader import SentimentIntensityAnalyzer\n",
    "#import nltk\n",
    "#nltk.download('vader_lexicon')\n",
    "import unicodedata\n",
    "saf = SentimentIntensityAnalyzer()   #df_stocks.T provides the transpose of data\n",
    "T_df_stocks=df_stocks.T\n",
    "#print(T_df_stocks.head())\n",
    "\n",
    "for date, row in df_stocks.T.iteritems():\n",
    "    try:\n",
    "        sentence = unicodedata.normalize('NFKD', df_stocks.loc[date, 'articles']).encode('ascii','ignore')\n",
    "        #print(sentence)\n",
    "        ss = saf.polarity_scores(sentence)\n",
    "        df.set_value(date, 'compound', ss['compound'])\n",
    "        df.set_value(date, 'neg', ss['neg'])\n",
    "        df.set_value(date, 'neu', ss['neu'])\n",
    "        df.set_value(date, 'pos', ss['pos'])\n",
    "    except TypeError:\n",
    "        #print (df_stocks.loc[date, 'articles'].head())\n",
    "        date\n"
   ]
  },
  {
   "cell_type": "code",
   "execution_count": 100,
   "metadata": {},
   "outputs": [
    {
     "data": {
      "image/png": "[encoded data removed]",
      "text/plain": [
       "<Figure size 432x288 with 1 Axes>"
      ]
     },
     "metadata": {
      "needs_background": "light"
     },
     "output_type": "display_data"
    }
   ],
   "source": [
    "df.head()\n",
    "\n",
    "import matplotlib.pyplot as plt\n",
    "%matplotlib inline\n",
    "#dfs=df[\"neg\",\"pos\"]\n",
    "dfsample=df.head(100)\n",
    "ax = dfsample[\"neg\"].rename(columns={\"neg\": \"negative\"}).plot(title='Sentimental values')\n",
    "ax.set_xlabel(\"dates\")\n",
    "ax.set_ylabel(\"sentimentals\")\n",
    "fig = dfsample[\"pos\"].rename(columns={\"pos\": \"positive\"}).plot(ax = ax).get_figure()\n",
    "#fig = dfsample[\"compound\"].rename(columns={\"compound\": \"compound\"}).plot(ax = ax).get_figure()\n",
    "fig.savefig(\"/home/shan/Project_Mtech/stock_market_pre/Data/random_forest_without_smoothing.png\")"
   ]
  },
  {
   "cell_type": "code",
   "execution_count": 13,
   "metadata": {},
   "outputs": [
    {
     "name": "stdout",
     "output_type": "stream",
     "text": [
      "({'neg': 0.428, 'neu': 0.572, 'pos': 0.0, 'compound': -0.8169}, {'neg': 0.0, 'neu': 0.709, 'pos': 0.291, 'compound': 0.5719})\n"
     ]
    }
   ],
   "source": [
    "#Example----\n",
    "sentence = 'Again one more sad day for bank As one more fraud detected'\n",
    "sentence2='today I happy as got new car using loan from bank'\n",
    "#sentence ='ohh no icici deal'\n",
    "#from nltk.sentiment.vader import SentimentIntensityAnalyzer\n",
    "#import unicodedata\n",
    "sid = SentimentIntensityAnalyzer()\n",
    "ss = sid.polarity_scores(sentence)\n",
    "ss2=sid.polarity_scores(sentence2) \n",
    "print(ss,ss2)\n"
   ]
  },
  {
   "cell_type": "code",
   "execution_count": 23,
   "metadata": {},
   "outputs": [
    {
     "name": "stdout",
     "output_type": "stream",
     "text": [
      "('Training Data Size', 14610)\n",
      "('Test Data Size', 3655)\n",
      "            prices compound    neg    neu    pos\n",
      "2007-01-01   12469  -0.9814  0.159  0.749  0.093\n",
      "2007-01-02   12472  -0.8335  0.116  0.785  0.099\n",
      "2007-01-03   12474  -0.9993  0.198  0.734  0.067\n",
      "2007-01-04   12480  -0.9982  0.131  0.806  0.062\n",
      "2007-01-05   12398  -0.9901  0.124  0.794  0.082\n",
      "            prices compound    neg    neu    pos\n",
      "2015-01-01   17828  -0.8744  0.134  0.737  0.129\n",
      "2015-01-02   17832  -0.9667  0.145   0.76  0.095\n",
      "2015-01-03   17722  -0.9621  0.125  0.788  0.088\n",
      "2015-01-04   17612  -0.9971   0.22  0.716  0.064\n",
      "2015-01-05   17501  -0.9905  0.156  0.767  0.077\n"
     ]
    }
   ],
   "source": [
    "train_start_date = '2007-01-01'\n",
    "train_end_date = '2014-12-31'\n",
    "test_start_date = '2015-01-01'\n",
    "test_end_date = '2016-12-31'\n",
    "train = df.loc[train_start_date : train_end_date]\n",
    "test = df.loc[test_start_date:test_end_date]\n",
    "print('Training Data Size',train.size)\n",
    "print('Test Data Size',test.size)\n",
    "print(train.head())\n",
    "print(test.head())"
   ]
  },
  {
   "cell_type": "code",
   "execution_count": 15,
   "metadata": {},
   "outputs": [
    {
     "data": {
      "text/plain": [
       "array([[0.159, 0.093],\n",
       "       [0.116, 0.099],\n",
       "       [0.198, 0.067],\n",
       "       ...,\n",
       "       [0.173, 0.082],\n",
       "       [0.16 , 0.14 ],\n",
       "       [0.205, 0.134]])"
      ]
     },
     "execution_count": 15,
     "metadata": {},
     "output_type": "execute_result"
    }
   ],
   "source": [
    "sentiment_score_list = []\n",
    "for date, row in train.T.iteritems():\n",
    "    #sentiment_score = np.asarray([df.loc[date, 'compound'],df.loc[date, 'neg'],df.loc[date, 'neu'],df.loc[date, 'pos']])\n",
    "    sentiment_score = np.asarray([df.loc[date, 'neg'],df.loc[date, 'pos']])\n",
    "    sentiment_score_list.append(sentiment_score)\n",
    "numpy_df_train = np.asarray(sentiment_score_list)\n",
    "numpy_df_train"
   ]
  },
  {
   "cell_type": "code",
   "execution_count": 27,
   "metadata": {},
   "outputs": [
    {
     "data": {
      "text/plain": [
       "array([[0.134, 0.129],\n",
       "       [0.145, 0.095],\n",
       "       [0.125, 0.088],\n",
       "       ...,\n",
       "       [0.138, 0.103],\n",
       "       [0.162, 0.108],\n",
       "       [0.181, 0.16 ]])"
      ]
     },
     "execution_count": 27,
     "metadata": {},
     "output_type": "execute_result"
    }
   ],
   "source": [
    "sentiment_score_list = []\n",
    "for date, row in test.T.iteritems():\n",
    "    #sentiment_score = np.asarray([df.loc[date, 'compound'],df.loc[date, 'neg'],df.loc[date, 'neu'],df.loc[date, 'pos']])\n",
    "    sentiment_score = np.asarray([df.loc[date, 'neg'],df.loc[date, 'pos']])\n",
    "    sentiment_score_list.append(sentiment_score)\n",
    "numpy_df_test = np.asarray(sentiment_score_list)\n",
    "numpy_df_test"
   ]
  },
  {
   "cell_type": "code",
   "execution_count": 28,
   "metadata": {},
   "outputs": [
    {
     "name": "stdout",
     "output_type": "stream",
     "text": [
      "            prices\n",
      "2007-01-01   12469\n",
      "2007-01-02   12472\n",
      "2007-01-03   12474\n",
      "2007-01-04   12480\n",
      "2007-01-05   12398\n",
      "            prices\n",
      "2015-01-01   17828\n",
      "2015-01-02   17832\n",
      "2015-01-03   17722\n",
      "2015-01-04   17612\n",
      "2015-01-05   17501\n"
     ]
    }
   ],
   "source": [
    "y_train = pd.DataFrame(train['prices'])\n",
    "y_test = pd.DataFrame(test['prices'])\n",
    "print(y_train.head())\n",
    "print(y_test.head())"
   ]
  },
  {
   "cell_type": "code",
   "execution_count": 29,
   "metadata": {},
   "outputs": [
    {
     "name": "stderr",
     "output_type": "stream",
     "text": [
      "/home/shan/anaconda3/lib/python2.7/site-packages/ipykernel_launcher.py:7: DataConversionWarning: A column-vector y was passed when a 1d array was expected. Please change the shape of y to (n_samples,), for example using ravel().\n",
      "  import sys\n"
     ]
    },
    {
     "name": "stdout",
     "output_type": "stream",
     "text": [
      "[0.53747923 0.46252077]\n"
     ]
    }
   ],
   "source": [
    "\n",
    "from sklearn.tree import DecisionTreeRegressor\n",
    "from sklearn.ensemble import RandomForestRegressor\n",
    "from sklearn.metrics import classification_report,confusion_matrix\n",
    "\n",
    "rf = RandomForestRegressor()\n",
    "rf.fit(numpy_df_train, y_train)\n",
    "print (rf.feature_importances_)"
   ]
  },
  {
   "cell_type": "code",
   "execution_count": 30,
   "metadata": {},
   "outputs": [],
   "source": [
    "from treeinterpreter import treeinterpreter as ti\n",
    "prediction, bias, contributions = ti.predict(rf, numpy_df_test)\n"
   ]
  },
  {
   "cell_type": "code",
   "execution_count": 31,
   "metadata": {},
   "outputs": [
    {
     "data": {
      "text/plain": [
       "array([11895.1       ,  9834.4       , 15251.        , 13850.1       ,\n",
       "       11588.7       , 11486.7       , 11537.45      , 13675.6       ,\n",
       "       14004.35      ,  9855.2       , 13485.2       , 11111.05833333,\n",
       "       15660.8       , 12472.23333333, 11803.53333333, 14090.8       ,\n",
       "       14203.925     , 14822.61666667, 15783.9       , 13859.2       ,\n",
       "       11507.53333333, 11717.46666667, 13537.8       , 13684.1       ,\n",
       "       15326.15      , 12455.        , 12527.        , 12639.        ,\n",
       "       12339.985     , 15217.63928571, 14086.4       , 11189.3       ,\n",
       "       10922.        , 11537.5       ,  9910.43333333, 13436.6       ,\n",
       "       12309.2       , 14228.8       , 12667.        , 14401.81      ,\n",
       "       12075.225     , 14318.775     , 12514.46666667, 12010.56666667,\n",
       "       13484.5       , 14384.6       , 13137.        , 12397.4       ,\n",
       "       12674.85      , 10732.21666667, 15032.85666667, 15026.2       ,\n",
       "       12481.9       , 11111.6       , 14273.175     , 10857.45      ,\n",
       "       12920.23333333, 12661.9       , 11114.6       , 12232.        ,\n",
       "       12750.        , 11266.9       , 13895.9       , 10104.9       ,\n",
       "       12367.2       , 11285.        , 14577.1       ,  9684.        ,\n",
       "       10684.        , 12557.24166667, 12482.        , 14880.8       ,\n",
       "       11700.84166667, 14359.1       , 11605.55      , 14039.6       ,\n",
       "       15260.04666667, 11995.66666667, 12638.        , 11351.9       ,\n",
       "        9980.9       , 14270.96      , 16233.36666667, 12039.2       ,\n",
       "       12874.5       , 13036.65      , 15006.5       , 10108.7       ,\n",
       "       11508.1       , 13869.8       , 12461.7       , 12219.5       ,\n",
       "       14015.3       , 12255.4       , 13179.28333333, 13820.3       ,\n",
       "       11154.16      , 13612.35      , 12400.6       , 14352.6       ,\n",
       "       12720.28333333, 12076.65      , 11932.9       , 12854.5       ,\n",
       "       13100.18333333, 12242.8       , 12193.82833333, 14266.7       ,\n",
       "       13048.9       , 12621.35      , 12088.15      , 12183.73333333,\n",
       "       13827.7       , 12898.52      , 13204.175     , 12391.4       ,\n",
       "       11133.43333333, 14225.40833333, 11433.2       , 11760.56666667,\n",
       "       11739.6       , 14768.52      , 14132.1       , 15366.4       ,\n",
       "        8477.7       , 12983.65      , 13467.76      , 15792.2       ,\n",
       "       11237.8       , 11439.9       , 11933.4       , 14486.6       ,\n",
       "       13880.8       , 10890.2       , 15186.        , 11049.6       ,\n",
       "       12509.2       , 13216.2       , 12377.84904762, 12644.9       ,\n",
       "       10537.6       , 15262.6       , 12261.7       , 11105.1       ,\n",
       "       15863.2       , 11941.52666667, 11114.73333333, 12632.05      ,\n",
       "       11577.1       , 13905.        , 13621.56666667, 15896.7       ,\n",
       "       13454.6       , 12438.4       , 13191.3       , 12549.8       ,\n",
       "       13534.8       , 11399.06666667, 11037.375     , 12947.60833333,\n",
       "       12766.7       , 10686.9       , 11167.2       , 12375.48      ,\n",
       "       14022.1       , 14533.4       , 14273.175     , 12615.6       ,\n",
       "       14866.3       , 10236.4       , 12892.63333333, 13324.2       ,\n",
       "       12005.7       , 12873.7       , 13820.2       , 12311.9       ,\n",
       "       10576.2       , 11875.7       , 11264.1       , 15789.6       ,\n",
       "       12982.53333333, 11775.7       , 11159.2       , 12830.5       ,\n",
       "       12010.35      , 12807.3       , 13029.        , 13387.8       ,\n",
       "       14000.5       , 16382.2       , 14409.4       , 12456.1       ,\n",
       "       12552.2       , 14618.5       , 13173.5       , 11924.4       ,\n",
       "       16712.6       , 11757.        , 13590.3       , 12667.13333333,\n",
       "       13072.67      , 11926.53333333, 14866.24166667, 10946.7       ,\n",
       "       13204.175     , 11248.5       , 14486.6       , 11709.4       ,\n",
       "       14160.4       , 11622.7       , 11911.38333333, 12841.2       ,\n",
       "       14773.6       , 11438.45      , 12773.6       , 13386.72      ,\n",
       "       12834.1       , 12184.        , 11797.46666667, 13773.5       ,\n",
       "       14560.5       , 13902.2       , 15511.3       , 13716.        ,\n",
       "       10435.63333333, 13704.7       , 14397.6       , 13468.16666667,\n",
       "       13671.7       , 12534.9       , 10593.1       , 11262.5       ,\n",
       "       12193.1       , 15557.8       , 13237.9       , 13368.85      ,\n",
       "       11658.2       , 16603.        , 15216.32      , 12409.2       ,\n",
       "       10377.54      , 14366.02      , 14320.3       , 14310.9       ,\n",
       "       14732.5       , 12708.2       , 12128.4       , 12682.        ,\n",
       "       15212.3       , 13365.59166667, 15138.1       , 12618.16666667,\n",
       "       11718.53333333, 13204.175     , 10895.4       , 12727.75      ,\n",
       "       11155.3       , 12329.4       , 13478.        , 12786.        ,\n",
       "       12892.6       , 13456.2       , 12509.2       , 13600.175     ,\n",
       "       12822.3       , 11730.2       , 11072.4       , 11878.4       ,\n",
       "       12470.43333333, 13102.2       , 12249.3       , 12037.38333333,\n",
       "       11767.03333333,  9859.        ,  9218.        , 14106.5       ,\n",
       "       11393.5       , 12566.8       , 10090.9       , 11248.60833333,\n",
       "       12791.05      , 11592.1       , 12134.2       , 10732.21666667,\n",
       "       11395.525     , 12306.        , 15132.25      ,  9598.3       ,\n",
       "       10412.53333333, 13500.5       , 13476.275     , 10043.8       ,\n",
       "       11326.2       , 12507.5       , 14443.        , 11047.2       ,\n",
       "       13005.9       , 13303.2       , 12939.43333333, 12536.3       ,\n",
       "       12752.25      , 11315.22857143, 12710.6       , 11521.26666667,\n",
       "       15664.9       , 11333.        , 12036.58333333, 12425.36666667,\n",
       "       12978.9       , 12084.9       , 15425.79166667, 14034.3       ,\n",
       "       14606.        , 14310.9       , 10751.56666667, 12831.2       ,\n",
       "       11879.6       , 13317.3       , 13175.        , 15326.15      ,\n",
       "       15440.8       , 14869.2       , 11660.17142857, 14139.6       ,\n",
       "       11216.        , 15296.03333333, 12476.4       , 13777.5       ,\n",
       "        8629.2       , 12061.775     , 10545.9       , 10697.6       ,\n",
       "       12114.1       , 12202.7       , 11868.5       , 11536.9       ,\n",
       "        8151.4       , 12202.25      , 13890.8       , 12080.7       ,\n",
       "       13165.8       , 10844.1       , 13949.83333333, 12333.2       ,\n",
       "       11518.21666667, 14593.4       , 11732.8       , 13815.75      ,\n",
       "       11508.1       , 11132.16666667, 11518.225     , 13801.4       ,\n",
       "       15070.6       , 11872.8       , 12731.15      , 11876.        ,\n",
       "        8830.3       , 12067.3       , 12897.3       , 11931.4       ,\n",
       "       11951.5       , 13744.8       , 12738.5       , 15158.155     ,\n",
       "       12905.3       , 10953.65      , 11852.5       , 10883.275     ,\n",
       "       12568.2       , 13840.76666667, 12110.9       , 12089.28333333,\n",
       "       12541.6       , 11824.16666667, 10622.2       , 13356.6       ,\n",
       "       11356.68309524, 13296.7       , 11401.        , 12899.9       ,\n",
       "       12909.3       , 13543.9       , 13543.9       , 14793.86666667,\n",
       "       16230.5       , 16895.51666667, 11530.3       , 12397.4       ,\n",
       "       12964.9       , 12838.5       , 11937.13333333, 12741.5       ,\n",
       "       12605.58      , 14198.62857143,  9128.8       , 13459.95      ,\n",
       "       13388.8       , 15380.        , 11630.3       ,  9182.5       ,\n",
       "       12467.9       , 13528.35      , 11016.2       , 11299.65      ,\n",
       "       12676.25      , 12316.63333333, 15172.4       , 14798.7       ,\n",
       "       13543.5       , 14337.4       , 14774.97777778, 15846.        ,\n",
       "        9875.6       , 10669.7       , 14896.4       , 10669.7       ,\n",
       "       13601.8       , 12401.3       , 10244.51      , 12502.3       ,\n",
       "       15114.4       , 12932.85      , 12927.9       , 12766.95      ,\n",
       "       15217.35833333, 12713.9       , 10659.85833333, 10328.2       ,\n",
       "       12549.        , 13500.28      , 14404.415     , 12976.8       ,\n",
       "       13528.35      , 12979.2       ,  9514.4       , 15400.15      ,\n",
       "       12811.1       , 13223.4       , 14065.        , 13525.13333333,\n",
       "       11334.4       , 11437.        , 12147.3       , 12672.625     ,\n",
       "       12669.5       , 11195.5       , 13949.32      , 14115.01      ,\n",
       "       11718.2       , 14286.7       , 13511.2       , 12560.4       ,\n",
       "       13995.7       , 12541.6       , 11319.7       , 14099.81666667,\n",
       "       14877.        , 13216.2       , 12488.6       , 15105.7       ,\n",
       "       12747.5       , 10625.1       , 12988.5       , 15764.4       ,\n",
       "       12447.38      , 13209.23      , 12936.7       , 13017.21      ,\n",
       "       10805.2       , 12400.7       , 10868.7       , 13695.13333333,\n",
       "       12718.8       , 12846.1       , 10243.9       , 12201.4       ,\n",
       "       15120.1       , 12982.53333333, 11923.5       , 11131.5       ,\n",
       "        9901.4       , 14633.5       , 14461.5       , 10028.7       ,\n",
       "       15996.6       , 11600.7       , 11082.5       , 12182.75      ,\n",
       "       11351.5       , 13005.9       , 11131.5       , 12660.25      ,\n",
       "        9630.        , 11060.4       , 13821.7       , 13115.05      ,\n",
       "        9134.3       , 12772.6       , 15235.93333333, 14618.5       ,\n",
       "       12205.18      , 13686.78      ,  9343.2       , 14444.4       ,\n",
       "       13437.6       , 12661.65      , 11308.9       , 12561.55      ,\n",
       "       12842.2       , 16679.6       , 12143.6       , 15621.4       ,\n",
       "       11851.        , 11778.53      , 12408.4       , 12804.8       ,\n",
       "       13022.4       , 13376.        , 15037.6       , 12193.82833333,\n",
       "       13095.2       , 13544.2       , 13219.05      , 10192.        ,\n",
       "       13300.6       , 12450.8       , 13811.        , 12651.3       ,\n",
       "       12459.4       , 12038.9       , 12308.4       , 12989.43333333,\n",
       "       13379.9       , 12293.46666667, 13795.4       , 12243.2       ,\n",
       "       15064.56666667, 14366.02      , 13024.8       , 11674.1       ,\n",
       "       16584.4       , 14667.45      , 14083.95      , 13353.3       ,\n",
       "       13863.7       , 13745.4       , 11470.2       , 11323.1       ,\n",
       "       12542.22833333, 15366.1       , 12477.        , 14309.2       ,\n",
       "       13422.4       , 15886.9       , 11949.3       , 11214.9       ,\n",
       "       12748.5       , 12477.7       , 12504.9       , 12406.3       ,\n",
       "       12399.76      , 12053.9       , 14088.3       , 12170.7       ,\n",
       "       12548.76666667, 12587.2       , 12796.9       , 13412.        ,\n",
       "       13932.445     , 13747.        , 13422.4       , 11785.        ,\n",
       "       14800.5       , 14328.86666667, 12907.75      , 12774.7       ,\n",
       "       12201.37083333, 11695.6       , 12232.        , 12497.8       ,\n",
       "       12908.        , 12090.13333333, 11038.4       , 12365.625     ,\n",
       "        8681.8       , 11181.45      , 13486.2       , 10581.69833333,\n",
       "       13033.4       , 11941.        , 14962.9       , 13029.86666667,\n",
       "       13184.21666667, 12273.85      , 13776.65      , 11834.8       ,\n",
       "       14150.41666667, 12761.16666667, 12106.5       , 12175.3       ,\n",
       "       10293.6       , 12193.8       , 13325.49166667, 12408.6       ,\n",
       "       12306.1       , 12244.6       , 13530.3       , 10361.4       ,\n",
       "       14304.5       ,  9289.8       , 13572.3       , 12518.3       ,\n",
       "       13300.6       , 11534.1       , 12519.5       , 12546.9       ,\n",
       "       14266.4       , 10869.8       , 12336.3       , 12641.2       ,\n",
       "       10645.9       , 12058.4       , 14286.7       , 10385.3       ,\n",
       "       12452.8       , 16671.6       , 12666.8       , 12078.4       ,\n",
       "       12240.875     , 13303.2       , 13112.26666667,  9360.5       ,\n",
       "       13484.93333333, 11862.95833333,  9422.2       , 13924.15      ,\n",
       "       16741.6       , 13522.5       , 13603.44190476, 11222.        ,\n",
       "       12810.4       , 12986.1       , 11900.48      , 13225.9       ,\n",
       "       11817.8       , 12394.71666667, 13612.5       , 14748.9       ,\n",
       "       14245.8       , 14300.8       , 13516.9       , 12208.4       ,\n",
       "       15340.9       , 13051.1       , 11299.55      , 16244.2       ,\n",
       "       11598.3       , 13225.9       , 12596.6       , 12878.4       ,\n",
       "       12996.2       , 10753.        , 12909.72666667, 13150.7       ,\n",
       "       12061.36      , 14096.3       , 12182.2       , 12612.1       ,\n",
       "       10276.05      , 11630.56      , 15621.4       , 12090.13333333,\n",
       "       13650.6       , 11114.73333333, 10597.3       , 12440.9       ,\n",
       "       11289.3       , 14815.9       , 13337.6       , 13910.28      ,\n",
       "       13272.8       , 12706.6       , 13155.8       , 11498.        ,\n",
       "       12415.15      , 11016.2       , 11824.16666667, 11728.4       ,\n",
       "       11463.4       , 13525.5       , 10961.9       , 13685.3       ,\n",
       "       11725.94285714, 14558.7       , 14843.35      , 13396.26666667,\n",
       "       14287.        , 14096.3       , 12669.325     , 15540.5       ,\n",
       "       15425.79166667, 14650.4       , 12011.43333333, 13777.5       ,\n",
       "       14751.9       , 12270.7       , 14918.3       , 12598.2       ,\n",
       "       13162.1       ,  9239.        , 13304.39166667, 13510.8       ,\n",
       "       14320.3       , 11695.6       , 12979.7       , 15755.3       ,\n",
       "       12838.3       , 14657.4       , 12970.33333333, 14245.4       ,\n",
       "       14805.2       , 12807.65      , 12876.425     , 13735.23333333,\n",
       "       12834.9       , 11129.9       , 11498.11142857, 12911.9       ,\n",
       "       10668.4       , 13415.8       , 12470.6       ])"
      ]
     },
     "execution_count": 31,
     "metadata": {},
     "output_type": "execute_result"
    }
   ],
   "source": [
    "prediction"
   ]
  },
  {
   "cell_type": "code",
   "execution_count": 32,
   "metadata": {},
   "outputs": [
    {
     "data": {
      "text/plain": [
       "array([[ -709.53712407,    15.45954022],\n",
       "       [-1477.33511823, -1277.44246562],\n",
       "       [  673.58868677,  1988.23372938],\n",
       "       ...,\n",
       "       [ -450.99968119, -1469.77790266],\n",
       "       [ 1491.4286636 ,  -664.80624744],\n",
       "       [  348.31982741,  -466.89741125]])"
      ]
     },
     "execution_count": 32,
     "metadata": {},
     "output_type": "execute_result"
    }
   ],
   "source": [
    "contributions"
   ]
  },
  {
   "cell_type": "code",
   "execution_count": 41,
   "metadata": {},
   "outputs": [
    {
     "data": {
      "text/html": [
       "<div>\n",
       "<style scoped>\n",
       "    .dataframe tbody tr th:only-of-type {\n",
       "        vertical-align: middle;\n",
       "    }\n",
       "\n",
       "    .dataframe tbody tr th {\n",
       "        vertical-align: top;\n",
       "    }\n",
       "\n",
       "    .dataframe thead th {\n",
       "        text-align: right;\n",
       "    }\n",
       "</style>\n",
       "<table border=\"1\" class=\"dataframe\">\n",
       "  <thead>\n",
       "    <tr style=\"text-align: right;\">\n",
       "      <th></th>\n",
       "      <th>key_0</th>\n",
       "      <th>prices_x</th>\n",
       "      <th>prices_y</th>\n",
       "    </tr>\n",
       "  </thead>\n",
       "  <tbody>\n",
       "    <tr>\n",
       "      <th>0</th>\n",
       "      <td>2015-01-01</td>\n",
       "      <td>11895.10</td>\n",
       "      <td>17828</td>\n",
       "    </tr>\n",
       "    <tr>\n",
       "      <th>1</th>\n",
       "      <td>2015-01-02</td>\n",
       "      <td>9834.40</td>\n",
       "      <td>17832</td>\n",
       "    </tr>\n",
       "    <tr>\n",
       "      <th>2</th>\n",
       "      <td>2015-01-03</td>\n",
       "      <td>15251.00</td>\n",
       "      <td>17722</td>\n",
       "    </tr>\n",
       "    <tr>\n",
       "      <th>3</th>\n",
       "      <td>2015-01-04</td>\n",
       "      <td>13850.10</td>\n",
       "      <td>17612</td>\n",
       "    </tr>\n",
       "    <tr>\n",
       "      <th>4</th>\n",
       "      <td>2015-01-05</td>\n",
       "      <td>11588.70</td>\n",
       "      <td>17501</td>\n",
       "    </tr>\n",
       "    <tr>\n",
       "      <th>5</th>\n",
       "      <td>2015-01-06</td>\n",
       "      <td>11486.70</td>\n",
       "      <td>17371</td>\n",
       "    </tr>\n",
       "    <tr>\n",
       "      <th>6</th>\n",
       "      <td>2015-01-07</td>\n",
       "      <td>11537.45</td>\n",
       "      <td>17584</td>\n",
       "    </tr>\n",
       "    <tr>\n",
       "      <th>7</th>\n",
       "      <td>2015-01-08</td>\n",
       "      <td>13675.60</td>\n",
       "      <td>17907</td>\n",
       "    </tr>\n",
       "    <tr>\n",
       "      <th>8</th>\n",
       "      <td>2015-01-09</td>\n",
       "      <td>14004.35</td>\n",
       "      <td>17737</td>\n",
       "    </tr>\n",
       "    <tr>\n",
       "      <th>9</th>\n",
       "      <td>2015-01-10</td>\n",
       "      <td>9855.20</td>\n",
       "      <td>17705</td>\n",
       "    </tr>\n",
       "  </tbody>\n",
       "</table>\n",
       "</div>"
      ],
      "text/plain": [
       "       key_0  prices_x  prices_y\n",
       "0 2015-01-01  11895.10     17828\n",
       "1 2015-01-02   9834.40     17832\n",
       "2 2015-01-03  15251.00     17722\n",
       "3 2015-01-04  13850.10     17612\n",
       "4 2015-01-05  11588.70     17501\n",
       "5 2015-01-06  11486.70     17371\n",
       "6 2015-01-07  11537.45     17584\n",
       "7 2015-01-08  13675.60     17907\n",
       "8 2015-01-09  14004.35     17737\n",
       "9 2015-01-10   9855.20     17705"
      ]
     },
     "execution_count": 41,
     "metadata": {},
     "output_type": "execute_result"
    }
   ],
   "source": [
    "import matplotlib.pyplot as plt\n",
    "%matplotlib inline\n",
    "\n",
    "idx = pd.date_range(test_start_date, test_end_date)\n",
    "predictions_df = pd.DataFrame(data=prediction[0:], index = idx, columns=['prices'])\n",
    "\n",
    "#print(predictions_df.head())\n",
    "#print(y_test.head())\n",
    "price_comp=pd.merge(predictions_df,y_test,how='inner',on=idx)\n",
    "price_comp.head(10)"
   ]
  },
  {
   "cell_type": "code",
   "execution_count": 42,
   "metadata": {},
   "outputs": [
    {
     "data": {
      "image/png": "[encoded data removed]",
      "text/plain": [
       "<Figure size 432x288 with 1 Axes>"
      ]
     },
     "metadata": {
      "needs_background": "light"
     },
     "output_type": "display_data"
    }
   ],
   "source": [
    "''''predictions_plot = predictions_df.plot()\n",
    "\n",
    "fig = y_test.plot(ax = predictions_plot).get_figure()\n",
    "fig.savefig(\"/home/shan/Project_Mtech/stock_market_pre/Data/random_forest_without_smoothing.png\")'''\n",
    "\n",
    "ax = predictions_df.rename(columns={\"prices\": \"predicted_price\"}).plot(title='Random Forest predicted prices')\n",
    "ax.set_xlabel(\"Dates\")\n",
    "ax.set_ylabel(\"Stock Prices\")\n",
    "fig = y_test.rename(columns={\"prices\": \"actual_price\"}).plot(ax = ax).get_figure()\n",
    "fig.savefig(\"/home/shan/Project_Mtech/stock_market_pre/Data/random_forest_without_smoothing.png\")"
   ]
  },
  {
   "cell_type": "code",
   "execution_count": 21,
   "metadata": {},
   "outputs": [
    {
     "data": {
      "text/html": [
       "<div>\n",
       "<style scoped>\n",
       "    .dataframe tbody tr th:only-of-type {\n",
       "        vertical-align: middle;\n",
       "    }\n",
       "\n",
       "    .dataframe tbody tr th {\n",
       "        vertical-align: top;\n",
       "    }\n",
       "\n",
       "    .dataframe thead th {\n",
       "        text-align: right;\n",
       "    }\n",
       "</style>\n",
       "<table border=\"1\" class=\"dataframe\">\n",
       "  <thead>\n",
       "    <tr style=\"text-align: right;\">\n",
       "      <th></th>\n",
       "      <th>prices</th>\n",
       "      <th>compound</th>\n",
       "      <th>neg</th>\n",
       "      <th>neu</th>\n",
       "      <th>pos</th>\n",
       "    </tr>\n",
       "  </thead>\n",
       "  <tbody>\n",
       "    <tr>\n",
       "      <th>2015-01-01</th>\n",
       "      <td>17828</td>\n",
       "      <td>-0.8744</td>\n",
       "      <td>0.134</td>\n",
       "      <td>0.737</td>\n",
       "      <td>0.129</td>\n",
       "    </tr>\n",
       "    <tr>\n",
       "      <th>2015-01-02</th>\n",
       "      <td>17832</td>\n",
       "      <td>-0.9667</td>\n",
       "      <td>0.145</td>\n",
       "      <td>0.76</td>\n",
       "      <td>0.095</td>\n",
       "    </tr>\n",
       "    <tr>\n",
       "      <th>2015-01-03</th>\n",
       "      <td>17722</td>\n",
       "      <td>-0.9621</td>\n",
       "      <td>0.125</td>\n",
       "      <td>0.788</td>\n",
       "      <td>0.088</td>\n",
       "    </tr>\n",
       "    <tr>\n",
       "      <th>2015-01-04</th>\n",
       "      <td>17612</td>\n",
       "      <td>-0.9971</td>\n",
       "      <td>0.22</td>\n",
       "      <td>0.716</td>\n",
       "      <td>0.064</td>\n",
       "    </tr>\n",
       "    <tr>\n",
       "      <th>2015-01-05</th>\n",
       "      <td>17501</td>\n",
       "      <td>-0.9905</td>\n",
       "      <td>0.156</td>\n",
       "      <td>0.767</td>\n",
       "      <td>0.077</td>\n",
       "    </tr>\n",
       "  </tbody>\n",
       "</table>\n",
       "</div>"
      ],
      "text/plain": [
       "            prices compound    neg    neu    pos\n",
       "2015-01-01   17828  -0.8744  0.134  0.737  0.129\n",
       "2015-01-02   17832  -0.9667  0.145   0.76  0.095\n",
       "2015-01-03   17722  -0.9621  0.125  0.788  0.088\n",
       "2015-01-04   17612  -0.9971   0.22  0.716  0.064\n",
       "2015-01-05   17501  -0.9905  0.156  0.767  0.077"
      ]
     },
     "execution_count": 21,
     "metadata": {},
     "output_type": "execute_result"
    }
   ],
   "source": [
    "test.head()"
   ]
  },
  {
   "cell_type": "code",
   "execution_count": 56,
   "metadata": {},
   "outputs": [
    {
     "name": "stdout",
     "output_type": "stream",
     "text": [
      "('average last five days', 17679)\n",
      "('Average upcoming five days', 1535.58)\n",
      "('Diffrence in prediction ', 16143.42)\n"
     ]
    }
   ],
   "source": [
    "#Increasing the prices by a constant value so that it represents closing price during the testing\n",
    "\n",
    "from datetime import datetime, timedelta\n",
    "\n",
    "temp_date = test_start_date\n",
    "average_last_5_days_test = 0\n",
    "total_days = 10\n",
    "for i in range(total_days):\n",
    "    average_last_5_days_test += test.loc[temp_date, 'prices']\n",
    "    # Converting string to date time\n",
    "    temp_date = datetime.strptime(temp_date, \"%Y-%m-%d\").date()\n",
    "    # Reducing one day from date time\n",
    "    difference = temp_date + timedelta(days=1)\n",
    "    # Converting again date time to string\n",
    "    temp_date = difference.strftime('%Y-%m-%d')\n",
    "    #print temp_date\n",
    "average_last_5_days_test = average_last_5_days_test / total_days\n",
    "print ('average last five days',average_last_5_days_test)\n",
    "\n",
    "temp_date = test_start_date\n",
    "average_upcoming_5_days_predicted = 0\n",
    "for i in range(total_days):\n",
    "    average_upcoming_5_days_predicted += predictions_df.loc[temp_date, 'prices']\n",
    "    # Converting string to date time\n",
    "    temp_date = datetime.strptime(temp_date, \"%Y-%m-%d\").date()\n",
    "    # Adding one day from date time\n",
    "    difference = temp_date + timedelta(days=1)\n",
    "    # Converting again date time to string\n",
    "    temp_date = difference.strftime('%Y-%m-%d')\n",
    "    #print temp_date\n",
    "average_upcoming_5_days_predicted = average_upcoming_5_days_predicted / total_days\n",
    "print ('Average upcoming five days',average_upcoming_5_days_predicted)\n",
    "#average train.loc['2013-12-31', 'prices'] - advpredictions_df.loc['2014-01-01', 'prices']\n",
    "difference_test_predicted_prices = average_last_5_days_test - average_upcoming_5_days_predicted\n",
    "print('Diffrence in prediction ',difference_test_predicted_prices)"
   ]
  },
  {
   "cell_type": "code",
   "execution_count": 57,
   "metadata": {},
   "outputs": [
    {
     "data": {
      "text/html": [
       "<div>\n",
       "<style scoped>\n",
       "    .dataframe tbody tr th:only-of-type {\n",
       "        vertical-align: middle;\n",
       "    }\n",
       "\n",
       "    .dataframe tbody tr th {\n",
       "        vertical-align: top;\n",
       "    }\n",
       "\n",
       "    .dataframe thead th {\n",
       "        text-align: right;\n",
       "    }\n",
       "</style>\n",
       "<table border=\"1\" class=\"dataframe\">\n",
       "  <thead>\n",
       "    <tr style=\"text-align: right;\">\n",
       "      <th></th>\n",
       "      <th>prices</th>\n",
       "    </tr>\n",
       "  </thead>\n",
       "  <tbody>\n",
       "    <tr>\n",
       "      <th>2015-01-01</th>\n",
       "      <td>1132.82</td>\n",
       "    </tr>\n",
       "    <tr>\n",
       "      <th>2015-01-02</th>\n",
       "      <td>-927.88</td>\n",
       "    </tr>\n",
       "    <tr>\n",
       "      <th>2015-01-03</th>\n",
       "      <td>4488.72</td>\n",
       "    </tr>\n",
       "    <tr>\n",
       "      <th>2015-01-04</th>\n",
       "      <td>3087.82</td>\n",
       "    </tr>\n",
       "    <tr>\n",
       "      <th>2015-01-05</th>\n",
       "      <td>826.42</td>\n",
       "    </tr>\n",
       "  </tbody>\n",
       "</table>\n",
       "</div>"
      ],
      "text/plain": [
       "             prices\n",
       "2015-01-01  1132.82\n",
       "2015-01-02  -927.88\n",
       "2015-01-03  4488.72\n",
       "2015-01-04  3087.82\n",
       "2015-01-05   826.42"
      ]
     },
     "execution_count": 57,
     "metadata": {},
     "output_type": "execute_result"
    }
   ],
   "source": [
    "predictions_df.head()"
   ]
  },
  {
   "cell_type": "code",
   "execution_count": 58,
   "metadata": {},
   "outputs": [
    {
     "data": {
      "text/html": [
       "<div>\n",
       "<style scoped>\n",
       "    .dataframe tbody tr th:only-of-type {\n",
       "        vertical-align: middle;\n",
       "    }\n",
       "\n",
       "    .dataframe tbody tr th {\n",
       "        vertical-align: top;\n",
       "    }\n",
       "\n",
       "    .dataframe thead th {\n",
       "        text-align: right;\n",
       "    }\n",
       "</style>\n",
       "<table border=\"1\" class=\"dataframe\">\n",
       "  <thead>\n",
       "    <tr style=\"text-align: right;\">\n",
       "      <th></th>\n",
       "      <th>key_0</th>\n",
       "      <th>prices_x</th>\n",
       "      <th>prices_y</th>\n",
       "    </tr>\n",
       "  </thead>\n",
       "  <tbody>\n",
       "    <tr>\n",
       "      <th>0</th>\n",
       "      <td>2015-01-01</td>\n",
       "      <td>17276.24</td>\n",
       "      <td>17828</td>\n",
       "    </tr>\n",
       "    <tr>\n",
       "      <th>1</th>\n",
       "      <td>2015-01-02</td>\n",
       "      <td>15215.54</td>\n",
       "      <td>17832</td>\n",
       "    </tr>\n",
       "    <tr>\n",
       "      <th>2</th>\n",
       "      <td>2015-01-03</td>\n",
       "      <td>20632.14</td>\n",
       "      <td>17722</td>\n",
       "    </tr>\n",
       "    <tr>\n",
       "      <th>3</th>\n",
       "      <td>2015-01-04</td>\n",
       "      <td>19231.24</td>\n",
       "      <td>17612</td>\n",
       "    </tr>\n",
       "    <tr>\n",
       "      <th>4</th>\n",
       "      <td>2015-01-05</td>\n",
       "      <td>16969.84</td>\n",
       "      <td>17501</td>\n",
       "    </tr>\n",
       "    <tr>\n",
       "      <th>5</th>\n",
       "      <td>2015-01-06</td>\n",
       "      <td>16867.84</td>\n",
       "      <td>17371</td>\n",
       "    </tr>\n",
       "    <tr>\n",
       "      <th>6</th>\n",
       "      <td>2015-01-07</td>\n",
       "      <td>16918.59</td>\n",
       "      <td>17584</td>\n",
       "    </tr>\n",
       "    <tr>\n",
       "      <th>7</th>\n",
       "      <td>2015-01-08</td>\n",
       "      <td>19056.74</td>\n",
       "      <td>17907</td>\n",
       "    </tr>\n",
       "    <tr>\n",
       "      <th>8</th>\n",
       "      <td>2015-01-09</td>\n",
       "      <td>19385.49</td>\n",
       "      <td>17737</td>\n",
       "    </tr>\n",
       "    <tr>\n",
       "      <th>9</th>\n",
       "      <td>2015-01-10</td>\n",
       "      <td>15236.34</td>\n",
       "      <td>17705</td>\n",
       "    </tr>\n",
       "  </tbody>\n",
       "</table>\n",
       "</div>"
      ],
      "text/plain": [
       "       key_0  prices_x  prices_y\n",
       "0 2015-01-01  17276.24     17828\n",
       "1 2015-01-02  15215.54     17832\n",
       "2 2015-01-03  20632.14     17722\n",
       "3 2015-01-04  19231.24     17612\n",
       "4 2015-01-05  16969.84     17501\n",
       "5 2015-01-06  16867.84     17371\n",
       "6 2015-01-07  16918.59     17584\n",
       "7 2015-01-08  19056.74     17907\n",
       "8 2015-01-09  19385.49     17737\n",
       "9 2015-01-10  15236.34     17705"
      ]
     },
     "execution_count": 58,
     "metadata": {},
     "output_type": "execute_result"
    }
   ],
   "source": [
    "# Adding 6177 to all the advpredictions_df price values\n",
    "predictions_df['prices'] = predictions_df['prices'] + difference_test_predicted_prices\n",
    "predictions_df\n",
    "price_comp=pd.merge(predictions_df,y_test,how='inner',on=idx)\n",
    "price_comp.head(10)"
   ]
  },
  {
   "cell_type": "code",
   "execution_count": 59,
   "metadata": {},
   "outputs": [
    {
     "data": {
      "image/png": "[encoded data removed]",
      "text/plain": [
       "<Figure size 432x288 with 1 Axes>"
      ]
     },
     "metadata": {
      "needs_background": "light"
     },
     "output_type": "display_data"
    }
   ],
   "source": [
    "ax = predictions_df.rename(columns={\"prices\": \"predicted_price\"}).plot(title='Random Forest predicted')\n",
    "ax.set_xlabel(\"Dates\")\n",
    "ax.set_ylabel(\"Stock Prices\")\n",
    "fig = y_test.rename(columns={\"prices\": \"actual_price\"}).plot(ax = ax).get_figure()\n",
    "#fig.savefig(\"graphs/random forest with aligning.png\")\n"
   ]
  },
  {
   "cell_type": "code",
   "execution_count": 62,
   "metadata": {},
   "outputs": [
    {
     "data": {
      "text/html": [
       "<div>\n",
       "<style scoped>\n",
       "    .dataframe tbody tr th:only-of-type {\n",
       "        vertical-align: middle;\n",
       "    }\n",
       "\n",
       "    .dataframe tbody tr th {\n",
       "        vertical-align: top;\n",
       "    }\n",
       "\n",
       "    .dataframe thead th {\n",
       "        text-align: right;\n",
       "    }\n",
       "</style>\n",
       "<table border=\"1\" class=\"dataframe\">\n",
       "  <thead>\n",
       "    <tr style=\"text-align: right;\">\n",
       "      <th></th>\n",
       "      <th>prices</th>\n",
       "    </tr>\n",
       "  </thead>\n",
       "  <tbody>\n",
       "    <tr>\n",
       "      <th>2015-01-01</th>\n",
       "      <td>17276.24</td>\n",
       "    </tr>\n",
       "    <tr>\n",
       "      <th>2015-01-02</th>\n",
       "      <td>15215.54</td>\n",
       "    </tr>\n",
       "    <tr>\n",
       "      <th>2015-01-03</th>\n",
       "      <td>20632.14</td>\n",
       "    </tr>\n",
       "    <tr>\n",
       "      <th>2015-01-04</th>\n",
       "      <td>19231.24</td>\n",
       "    </tr>\n",
       "    <tr>\n",
       "      <th>2015-01-05</th>\n",
       "      <td>16969.84</td>\n",
       "    </tr>\n",
       "  </tbody>\n",
       "</table>\n",
       "</div>"
      ],
      "text/plain": [
       "              prices\n",
       "2015-01-01  17276.24\n",
       "2015-01-02  15215.54\n",
       "2015-01-03  20632.14\n",
       "2015-01-04  19231.24\n",
       "2015-01-05  16969.84"
      ]
     },
     "execution_count": 62,
     "metadata": {},
     "output_type": "execute_result"
    }
   ],
   "source": [
    "#Applying EWMA pandas to smooth the stock prices\n",
    "\n",
    "predictions_df.head()"
   ]
  },
  {
   "cell_type": "code",
   "execution_count": 75,
   "metadata": {},
   "outputs": [
    {
     "data": {
      "text/html": [
       "<div>\n",
       "<style scoped>\n",
       "    .dataframe tbody tr th:only-of-type {\n",
       "        vertical-align: middle;\n",
       "    }\n",
       "\n",
       "    .dataframe tbody tr th {\n",
       "        vertical-align: top;\n",
       "    }\n",
       "\n",
       "    .dataframe thead th {\n",
       "        text-align: right;\n",
       "    }\n",
       "</style>\n",
       "<table border=\"1\" class=\"dataframe\">\n",
       "  <thead>\n",
       "    <tr style=\"text-align: right;\">\n",
       "      <th></th>\n",
       "      <th>prices</th>\n",
       "      <th>ewma</th>\n",
       "    </tr>\n",
       "  </thead>\n",
       "  <tbody>\n",
       "    <tr>\n",
       "      <th>2015-01-01</th>\n",
       "      <td>17276.24</td>\n",
       "      <td>17276.240000</td>\n",
       "    </tr>\n",
       "    <tr>\n",
       "      <th>2015-01-02</th>\n",
       "      <td>15215.54</td>\n",
       "      <td>16228.717500</td>\n",
       "    </tr>\n",
       "    <tr>\n",
       "      <th>2015-01-03</th>\n",
       "      <td>20632.14</td>\n",
       "      <td>17745.719178</td>\n",
       "    </tr>\n",
       "    <tr>\n",
       "      <th>2015-01-04</th>\n",
       "      <td>19231.24</td>\n",
       "      <td>18135.871221</td>\n",
       "    </tr>\n",
       "    <tr>\n",
       "      <th>2015-01-05</th>\n",
       "      <td>16969.84</td>\n",
       "      <td>17886.863222</td>\n",
       "    </tr>\n",
       "    <tr>\n",
       "      <th>2015-01-06</th>\n",
       "      <td>16867.84</td>\n",
       "      <td>17702.563881</td>\n",
       "    </tr>\n",
       "    <tr>\n",
       "      <th>2015-01-07</th>\n",
       "      <td>16918.59</td>\n",
       "      <td>17579.062392</td>\n",
       "    </tr>\n",
       "    <tr>\n",
       "      <th>2015-01-08</th>\n",
       "      <td>19056.74</td>\n",
       "      <td>17786.026922</td>\n",
       "    </tr>\n",
       "    <tr>\n",
       "      <th>2015-01-09</th>\n",
       "      <td>19385.49</td>\n",
       "      <td>17988.345344</td>\n",
       "    </tr>\n",
       "    <tr>\n",
       "      <th>2015-01-10</th>\n",
       "      <td>15236.34</td>\n",
       "      <td>17670.064536</td>\n",
       "    </tr>\n",
       "  </tbody>\n",
       "</table>\n",
       "</div>"
      ],
      "text/plain": [
       "              prices          ewma\n",
       "2015-01-01  17276.24  17276.240000\n",
       "2015-01-02  15215.54  16228.717500\n",
       "2015-01-03  20632.14  17745.719178\n",
       "2015-01-04  19231.24  18135.871221\n",
       "2015-01-05  16969.84  17886.863222\n",
       "2015-01-06  16867.84  17702.563881\n",
       "2015-01-07  16918.59  17579.062392\n",
       "2015-01-08  19056.74  17786.026922\n",
       "2015-01-09  19385.49  17988.345344\n",
       "2015-01-10  15236.34  17670.064536"
      ]
     },
     "execution_count": 75,
     "metadata": {},
     "output_type": "execute_result"
    }
   ],
   "source": [
    "#exclusive moving average for price\n",
    "\n",
    "predictions_df['ewma'] = predictions_df[\"prices\"].ewm(span=60, min_periods=0,adjust=True,ignore_na=False).mean()\n",
    "predictions_df.head(10)"
   ]
  },
  {
   "cell_type": "code",
   "execution_count": 78,
   "metadata": {},
   "outputs": [
    {
     "data": {
      "text/html": [
       "<div>\n",
       "<style scoped>\n",
       "    .dataframe tbody tr th:only-of-type {\n",
       "        vertical-align: middle;\n",
       "    }\n",
       "\n",
       "    .dataframe tbody tr th {\n",
       "        vertical-align: top;\n",
       "    }\n",
       "\n",
       "    .dataframe thead th {\n",
       "        text-align: right;\n",
       "    }\n",
       "</style>\n",
       "<table border=\"1\" class=\"dataframe\">\n",
       "  <thead>\n",
       "    <tr style=\"text-align: right;\">\n",
       "      <th></th>\n",
       "      <th>predicted_price</th>\n",
       "      <th>average_predicted_price</th>\n",
       "      <th>actual_price</th>\n",
       "      <th>average_actual_price</th>\n",
       "    </tr>\n",
       "  </thead>\n",
       "  <tbody>\n",
       "    <tr>\n",
       "      <th>2015-01-01</th>\n",
       "      <td>17276.24</td>\n",
       "      <td>17276.240000</td>\n",
       "      <td>17828</td>\n",
       "      <td>17828.000000</td>\n",
       "    </tr>\n",
       "    <tr>\n",
       "      <th>2015-01-02</th>\n",
       "      <td>15215.54</td>\n",
       "      <td>16228.717500</td>\n",
       "      <td>17832</td>\n",
       "      <td>17830.033333</td>\n",
       "    </tr>\n",
       "    <tr>\n",
       "      <th>2015-01-03</th>\n",
       "      <td>20632.14</td>\n",
       "      <td>17745.719178</td>\n",
       "      <td>17722</td>\n",
       "      <td>17792.815295</td>\n",
       "    </tr>\n",
       "    <tr>\n",
       "      <th>2015-01-04</th>\n",
       "      <td>19231.24</td>\n",
       "      <td>18135.871221</td>\n",
       "      <td>17612</td>\n",
       "      <td>17745.326592</td>\n",
       "    </tr>\n",
       "    <tr>\n",
       "      <th>2015-01-05</th>\n",
       "      <td>16969.84</td>\n",
       "      <td>17886.863222</td>\n",
       "      <td>17501</td>\n",
       "      <td>17693.150223</td>\n",
       "    </tr>\n",
       "    <tr>\n",
       "      <th>2015-01-06</th>\n",
       "      <td>16867.84</td>\n",
       "      <td>17702.563881</td>\n",
       "      <td>17371</td>\n",
       "      <td>17634.886512</td>\n",
       "    </tr>\n",
       "    <tr>\n",
       "      <th>2015-01-07</th>\n",
       "      <td>16918.59</td>\n",
       "      <td>17579.062392</td>\n",
       "      <td>17584</td>\n",
       "      <td>17626.870225</td>\n",
       "    </tr>\n",
       "    <tr>\n",
       "      <th>2015-01-08</th>\n",
       "      <td>19056.74</td>\n",
       "      <td>17786.026922</td>\n",
       "      <td>17907</td>\n",
       "      <td>17666.105392</td>\n",
       "    </tr>\n",
       "    <tr>\n",
       "      <th>2015-01-09</th>\n",
       "      <td>19385.49</td>\n",
       "      <td>17988.345344</td>\n",
       "      <td>17737</td>\n",
       "      <td>17675.072954</td>\n",
       "    </tr>\n",
       "    <tr>\n",
       "      <th>2015-01-10</th>\n",
       "      <td>15236.34</td>\n",
       "      <td>17670.064536</td>\n",
       "      <td>17705</td>\n",
       "      <td>17678.534141</td>\n",
       "    </tr>\n",
       "  </tbody>\n",
       "</table>\n",
       "</div>"
      ],
      "text/plain": [
       "            predicted_price  average_predicted_price  actual_price  \\\n",
       "2015-01-01         17276.24             17276.240000         17828   \n",
       "2015-01-02         15215.54             16228.717500         17832   \n",
       "2015-01-03         20632.14             17745.719178         17722   \n",
       "2015-01-04         19231.24             18135.871221         17612   \n",
       "2015-01-05         16969.84             17886.863222         17501   \n",
       "2015-01-06         16867.84             17702.563881         17371   \n",
       "2015-01-07         16918.59             17579.062392         17584   \n",
       "2015-01-08         19056.74             17786.026922         17907   \n",
       "2015-01-09         19385.49             17988.345344         17737   \n",
       "2015-01-10         15236.34             17670.064536         17705   \n",
       "\n",
       "            average_actual_price  \n",
       "2015-01-01          17828.000000  \n",
       "2015-01-02          17830.033333  \n",
       "2015-01-03          17792.815295  \n",
       "2015-01-04          17745.326592  \n",
       "2015-01-05          17693.150223  \n",
       "2015-01-06          17634.886512  \n",
       "2015-01-07          17626.870225  \n",
       "2015-01-08          17666.105392  \n",
       "2015-01-09          17675.072954  \n",
       "2015-01-10          17678.534141  "
      ]
     },
     "execution_count": 78,
     "metadata": {},
     "output_type": "execute_result"
    }
   ],
   "source": [
    "predictions_df['actual_value'] = test['prices']\n",
    "predictions_df['actual_value_ewma'] = predictions_df[\"actual_value\"].ewm(span=60, min_periods=0,adjust=True,ignore_na=False).mean()\n",
    "\n",
    "# Changing column names\n",
    "predictions_df.columns = ['predicted_price', 'average_predicted_price', 'actual_price', 'average_actual_price']\n",
    "predictions_df.head(10)"
   ]
  },
  {
   "cell_type": "code",
   "execution_count": 80,
   "metadata": {},
   "outputs": [
    {
     "data": {
      "image/png": "[encoded data removed]",
      "text/plain": [
       "<Figure size 432x288 with 1 Axes>"
      ]
     },
     "metadata": {
      "needs_background": "light"
     },
     "output_type": "display_data"
    }
   ],
   "source": [
    "# Now plotting test predictions after smoothing\n",
    "predictions_plot = predictions_df.plot(title='Random Forest predicted prices 8-2 years after aligning & smoothing')\n",
    "predictions_plot.set_xlabel(\"Dates\")\n",
    "predictions_plot.set_ylabel(\"Stock Prices\")\n",
    "fig = predictions_plot.get_figure()\n",
    "fig.savefig(\"random forest after smoothing.png\")\n"
   ]
  },
  {
   "cell_type": "code",
   "execution_count": 86,
   "metadata": {},
   "outputs": [
    {
     "data": {
      "image/png": "[encoded data removed]",
      "text/plain": [
       "<Figure size 432x288 with 1 Axes>"
      ]
     },
     "metadata": {
      "needs_background": "light"
     },
     "output_type": "display_data"
    }
   ],
   "source": [
    "# Plotting just predict and actual average curves\n",
    "predictions_df_average = predictions_df[['average_predicted_price', 'average_actual_price']]\n",
    "predictions_plot = predictions_df_average.plot(title='Random Forest 8-2 years after aligning & smoothing')\n",
    "predictions_plot.set_xlabel(\"Dates\")\n",
    "predictions_plot.set_ylabel(\"Stock Prices\")\n",
    "fig = predictions_plot.get_figure()\n",
    "fig.savefig(\"Data/random forest after smoothing 2.png\")"
   ]
  },
  {
   "cell_type": "code",
   "execution_count": null,
   "metadata": {},
   "outputs": [],
   "source": []
  },
  {
   "cell_type": "code",
   "execution_count": null,
   "metadata": {},
   "outputs": [],
   "source": []
  }
 ],
 "metadata": {
  "kernelspec": {
   "display_name": "Python 2",
   "language": "python",
   "name": "python2"
  },
  "language_info": {
   "codemirror_mode": {
    "name": "ipython",
    "version": 2
   },
   "file_extension": ".py",
   "mimetype": "text/x-python",
   "name": "python",
   "nbconvert_exporter": "python",
   "pygments_lexer": "ipython2",
   "version": "2.7.16"
  }
 },
 "nbformat": 4,
 "nbformat_minor": 2
}
